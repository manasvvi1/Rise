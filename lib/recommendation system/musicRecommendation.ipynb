{
 "cells": [
  {
   "cell_type": "code",
   "execution_count": 3,
   "id": "88812706",
   "metadata": {
    "execution": {
     "iopub.execute_input": "2023-07-28T10:50:21.285392Z",
     "iopub.status.busy": "2023-07-28T10:50:21.284682Z",
     "iopub.status.idle": "2023-07-28T10:50:21.306790Z",
     "shell.execute_reply": "2023-07-28T10:50:21.305863Z"
    },
    "papermill": {
     "duration": 0.033883,
     "end_time": "2023-07-28T10:50:21.308955",
     "exception": false,
     "start_time": "2023-07-28T10:50:21.275072",
     "status": "completed"
    },
    "tags": []
   },
   "outputs": [],
   "source": [
    "import numpy as np # linear algebra\n",
    "import pandas as pd # data processing, CSV file I/O (e.g. pd.read_csv)\n",
    "import os\n",
    "for dirname, _, filenames in os.walk('/kaggle/input'):\n",
    "    for filename in filenames:\n",
    "        print(os.path.join(dirname, filename))"
   ]
  },
  {
   "cell_type": "code",
   "execution_count": 4,
   "id": "8915d9e0",
   "metadata": {
    "execution": {
     "iopub.execute_input": "2023-07-28T10:50:21.326641Z",
     "iopub.status.busy": "2023-07-28T10:50:21.325782Z",
     "iopub.status.idle": "2023-07-28T10:50:21.572451Z",
     "shell.execute_reply": "2023-07-28T10:50:21.571391Z"
    },
    "id": "8yizIQKolmTt",
    "papermill": {
     "duration": 0.258193,
     "end_time": "2023-07-28T10:50:21.575301",
     "exception": false,
     "start_time": "2023-07-28T10:50:21.317108",
     "status": "completed"
    },
    "tags": []
   },
   "outputs": [],
   "source": [
    "df = pd.read_csv('./music.csv')"
   ]
  },
  {
   "cell_type": "code",
   "execution_count": 5,
   "id": "b1d67783",
   "metadata": {
    "execution": {
     "iopub.execute_input": "2023-07-28T10:50:21.594907Z",
     "iopub.status.busy": "2023-07-28T10:50:21.593940Z",
     "iopub.status.idle": "2023-07-28T10:50:21.634870Z",
     "shell.execute_reply": "2023-07-28T10:50:21.633759Z"
    },
    "id": "BbdLbcQXoya3",
    "outputId": "d66afad6-9c2b-45fc-f3d6-1bd2e3b88c38",
    "papermill": {
     "duration": 0.054036,
     "end_time": "2023-07-28T10:50:21.638101",
     "exception": false,
     "start_time": "2023-07-28T10:50:21.584065",
     "status": "completed"
    },
    "tags": []
   },
   "outputs": [
    {
     "data": {
      "text/html": [
       "<div>\n",
       "<style scoped>\n",
       "    .dataframe tbody tr th:only-of-type {\n",
       "        vertical-align: middle;\n",
       "    }\n",
       "\n",
       "    .dataframe tbody tr th {\n",
       "        vertical-align: top;\n",
       "    }\n",
       "\n",
       "    .dataframe thead th {\n",
       "        text-align: right;\n",
       "    }\n",
       "</style>\n",
       "<table border=\"1\" class=\"dataframe\">\n",
       "  <thead>\n",
       "    <tr style=\"text-align: right;\">\n",
       "      <th></th>\n",
       "      <th>Artist</th>\n",
       "      <th>Track</th>\n",
       "      <th>Album</th>\n",
       "      <th>Album_type</th>\n",
       "      <th>Danceability</th>\n",
       "      <th>Energy</th>\n",
       "      <th>Loudness</th>\n",
       "      <th>Speechiness</th>\n",
       "      <th>Acousticness</th>\n",
       "      <th>Instrumentalness</th>\n",
       "      <th>...</th>\n",
       "      <th>Title</th>\n",
       "      <th>Channel</th>\n",
       "      <th>Views</th>\n",
       "      <th>Likes</th>\n",
       "      <th>Comments</th>\n",
       "      <th>Licensed</th>\n",
       "      <th>official_video</th>\n",
       "      <th>Stream</th>\n",
       "      <th>EnergyLiveness</th>\n",
       "      <th>most_playedon</th>\n",
       "    </tr>\n",
       "  </thead>\n",
       "  <tbody>\n",
       "    <tr>\n",
       "      <th>0</th>\n",
       "      <td>Gorillaz</td>\n",
       "      <td>Feel Good Inc.</td>\n",
       "      <td>Demon Days</td>\n",
       "      <td>album</td>\n",
       "      <td>0.818</td>\n",
       "      <td>0.705</td>\n",
       "      <td>-6.679</td>\n",
       "      <td>0.1770</td>\n",
       "      <td>0.008360</td>\n",
       "      <td>0.002330</td>\n",
       "      <td>...</td>\n",
       "      <td>Gorillaz - Feel Good Inc. (Official Video)</td>\n",
       "      <td>Gorillaz</td>\n",
       "      <td>693555221.0</td>\n",
       "      <td>6220896.0</td>\n",
       "      <td>169907.0</td>\n",
       "      <td>True</td>\n",
       "      <td>True</td>\n",
       "      <td>1.040235e+09</td>\n",
       "      <td>1.150082</td>\n",
       "      <td>Spotify</td>\n",
       "    </tr>\n",
       "    <tr>\n",
       "      <th>1</th>\n",
       "      <td>Gorillaz</td>\n",
       "      <td>Rhinestone Eyes</td>\n",
       "      <td>Plastic Beach</td>\n",
       "      <td>album</td>\n",
       "      <td>0.676</td>\n",
       "      <td>0.703</td>\n",
       "      <td>-5.815</td>\n",
       "      <td>0.0302</td>\n",
       "      <td>0.086900</td>\n",
       "      <td>0.000687</td>\n",
       "      <td>...</td>\n",
       "      <td>Gorillaz - Rhinestone Eyes [Storyboard Film] (...</td>\n",
       "      <td>Gorillaz</td>\n",
       "      <td>72011645.0</td>\n",
       "      <td>1079128.0</td>\n",
       "      <td>31003.0</td>\n",
       "      <td>True</td>\n",
       "      <td>True</td>\n",
       "      <td>3.100837e+08</td>\n",
       "      <td>15.183585</td>\n",
       "      <td>Spotify</td>\n",
       "    </tr>\n",
       "    <tr>\n",
       "      <th>2</th>\n",
       "      <td>Gorillaz</td>\n",
       "      <td>New Gold (feat. Tame Impala and Bootie Brown)</td>\n",
       "      <td>New Gold (feat. Tame Impala and Bootie Brown)</td>\n",
       "      <td>single</td>\n",
       "      <td>0.695</td>\n",
       "      <td>0.923</td>\n",
       "      <td>-3.930</td>\n",
       "      <td>0.0522</td>\n",
       "      <td>0.042500</td>\n",
       "      <td>0.046900</td>\n",
       "      <td>...</td>\n",
       "      <td>Gorillaz - New Gold ft. Tame Impala &amp; Bootie B...</td>\n",
       "      <td>Gorillaz</td>\n",
       "      <td>8435055.0</td>\n",
       "      <td>282142.0</td>\n",
       "      <td>7399.0</td>\n",
       "      <td>True</td>\n",
       "      <td>True</td>\n",
       "      <td>6.306347e+07</td>\n",
       "      <td>7.956897</td>\n",
       "      <td>Spotify</td>\n",
       "    </tr>\n",
       "    <tr>\n",
       "      <th>3</th>\n",
       "      <td>Gorillaz</td>\n",
       "      <td>On Melancholy Hill</td>\n",
       "      <td>Plastic Beach</td>\n",
       "      <td>album</td>\n",
       "      <td>0.689</td>\n",
       "      <td>0.739</td>\n",
       "      <td>-5.810</td>\n",
       "      <td>0.0260</td>\n",
       "      <td>0.000015</td>\n",
       "      <td>0.509000</td>\n",
       "      <td>...</td>\n",
       "      <td>Gorillaz - On Melancholy Hill (Official Video)</td>\n",
       "      <td>Gorillaz</td>\n",
       "      <td>211754952.0</td>\n",
       "      <td>1788577.0</td>\n",
       "      <td>55229.0</td>\n",
       "      <td>True</td>\n",
       "      <td>True</td>\n",
       "      <td>4.346636e+08</td>\n",
       "      <td>11.546875</td>\n",
       "      <td>Spotify</td>\n",
       "    </tr>\n",
       "    <tr>\n",
       "      <th>4</th>\n",
       "      <td>Gorillaz</td>\n",
       "      <td>Clint Eastwood</td>\n",
       "      <td>Gorillaz</td>\n",
       "      <td>album</td>\n",
       "      <td>0.663</td>\n",
       "      <td>0.694</td>\n",
       "      <td>-8.627</td>\n",
       "      <td>0.1710</td>\n",
       "      <td>0.025300</td>\n",
       "      <td>0.000000</td>\n",
       "      <td>...</td>\n",
       "      <td>Gorillaz - Clint Eastwood (Official Video)</td>\n",
       "      <td>Gorillaz</td>\n",
       "      <td>618480958.0</td>\n",
       "      <td>6197318.0</td>\n",
       "      <td>155930.0</td>\n",
       "      <td>True</td>\n",
       "      <td>True</td>\n",
       "      <td>6.172597e+08</td>\n",
       "      <td>9.942693</td>\n",
       "      <td>Youtube</td>\n",
       "    </tr>\n",
       "  </tbody>\n",
       "</table>\n",
       "<p>5 rows × 24 columns</p>\n",
       "</div>"
      ],
      "text/plain": [
       "     Artist                                          Track  \\\n",
       "0  Gorillaz                                 Feel Good Inc.   \n",
       "1  Gorillaz                                Rhinestone Eyes   \n",
       "2  Gorillaz  New Gold (feat. Tame Impala and Bootie Brown)   \n",
       "3  Gorillaz                             On Melancholy Hill   \n",
       "4  Gorillaz                                 Clint Eastwood   \n",
       "\n",
       "                                           Album Album_type  Danceability  \\\n",
       "0                                     Demon Days      album         0.818   \n",
       "1                                  Plastic Beach      album         0.676   \n",
       "2  New Gold (feat. Tame Impala and Bootie Brown)     single         0.695   \n",
       "3                                  Plastic Beach      album         0.689   \n",
       "4                                       Gorillaz      album         0.663   \n",
       "\n",
       "   Energy  Loudness  Speechiness  Acousticness  Instrumentalness  ...  \\\n",
       "0   0.705    -6.679       0.1770      0.008360          0.002330  ...   \n",
       "1   0.703    -5.815       0.0302      0.086900          0.000687  ...   \n",
       "2   0.923    -3.930       0.0522      0.042500          0.046900  ...   \n",
       "3   0.739    -5.810       0.0260      0.000015          0.509000  ...   \n",
       "4   0.694    -8.627       0.1710      0.025300          0.000000  ...   \n",
       "\n",
       "                                               Title   Channel        Views  \\\n",
       "0         Gorillaz - Feel Good Inc. (Official Video)  Gorillaz  693555221.0   \n",
       "1  Gorillaz - Rhinestone Eyes [Storyboard Film] (...  Gorillaz   72011645.0   \n",
       "2  Gorillaz - New Gold ft. Tame Impala & Bootie B...  Gorillaz    8435055.0   \n",
       "3     Gorillaz - On Melancholy Hill (Official Video)  Gorillaz  211754952.0   \n",
       "4         Gorillaz - Clint Eastwood (Official Video)  Gorillaz  618480958.0   \n",
       "\n",
       "       Likes  Comments Licensed  official_video        Stream  EnergyLiveness  \\\n",
       "0  6220896.0  169907.0     True            True  1.040235e+09        1.150082   \n",
       "1  1079128.0   31003.0     True            True  3.100837e+08       15.183585   \n",
       "2   282142.0    7399.0     True            True  6.306347e+07        7.956897   \n",
       "3  1788577.0   55229.0     True            True  4.346636e+08       11.546875   \n",
       "4  6197318.0  155930.0     True            True  6.172597e+08        9.942693   \n",
       "\n",
       "  most_playedon  \n",
       "0       Spotify  \n",
       "1       Spotify  \n",
       "2       Spotify  \n",
       "3       Spotify  \n",
       "4       Youtube  \n",
       "\n",
       "[5 rows x 24 columns]"
      ]
     },
     "execution_count": 5,
     "metadata": {},
     "output_type": "execute_result"
    }
   ],
   "source": [
    "df.head()"
   ]
  },
  {
   "cell_type": "code",
   "execution_count": 6,
   "id": "c23ecb19",
   "metadata": {
    "execution": {
     "iopub.execute_input": "2023-07-28T10:50:21.675321Z",
     "iopub.status.busy": "2023-07-28T10:50:21.675045Z",
     "iopub.status.idle": "2023-07-28T10:50:21.756251Z",
     "shell.execute_reply": "2023-07-28T10:50:21.754836Z"
    },
    "id": "CWvsP-SFo0H-",
    "outputId": "05979476-1c9d-47d4-b7dc-2c0523a4a769",
    "papermill": {
     "duration": 0.095378,
     "end_time": "2023-07-28T10:50:21.758952",
     "exception": false,
     "start_time": "2023-07-28T10:50:21.663574",
     "status": "completed"
    },
    "tags": []
   },
   "outputs": [
    {
     "name": "stdout",
     "output_type": "stream",
     "text": [
      "<class 'pandas.core.frame.DataFrame'>\n",
      "RangeIndex: 20594 entries, 0 to 20593\n",
      "Data columns (total 24 columns):\n",
      " #   Column            Non-Null Count  Dtype  \n",
      "---  ------            --------------  -----  \n",
      " 0   Artist            20594 non-null  object \n",
      " 1   Track             20594 non-null  object \n",
      " 2   Album             20594 non-null  object \n",
      " 3   Album_type        20594 non-null  object \n",
      " 4   Danceability      20594 non-null  float64\n",
      " 5   Energy            20594 non-null  float64\n",
      " 6   Loudness          20594 non-null  float64\n",
      " 7   Speechiness       20594 non-null  float64\n",
      " 8   Acousticness      20594 non-null  float64\n",
      " 9   Instrumentalness  20594 non-null  float64\n",
      " 10  Liveness          20594 non-null  float64\n",
      " 11  Valence           20594 non-null  float64\n",
      " 12  Tempo             20594 non-null  float64\n",
      " 13  Duration_min      20594 non-null  float64\n",
      " 14  Title             20594 non-null  object \n",
      " 15  Channel           20594 non-null  object \n",
      " 16  Views             20594 non-null  float64\n",
      " 17  Likes             20594 non-null  float64\n",
      " 18  Comments          20594 non-null  float64\n",
      " 19  Licensed          20594 non-null  object \n",
      " 20  official_video    20594 non-null  object \n",
      " 21  Stream            20594 non-null  float64\n",
      " 22  EnergyLiveness    20592 non-null  float64\n",
      " 23  most_playedon     20594 non-null  object \n",
      "dtypes: float64(15), object(9)\n",
      "memory usage: 3.8+ MB\n"
     ]
    }
   ],
   "source": [
    "df.info()"
   ]
  },
  {
   "cell_type": "code",
   "execution_count": 7,
   "id": "bf090581",
   "metadata": {
    "execution": {
     "iopub.execute_input": "2023-07-28T10:50:21.780101Z",
     "iopub.status.busy": "2023-07-28T10:50:21.779197Z",
     "iopub.status.idle": "2023-07-28T10:50:21.842163Z",
     "shell.execute_reply": "2023-07-28T10:50:21.841022Z"
    },
    "id": "DF9TMyy1pm9D",
    "outputId": "4e963932-38cc-4d61-c473-0e3af0a7d741",
    "papermill": {
     "duration": 0.075621,
     "end_time": "2023-07-28T10:50:21.844706",
     "exception": false,
     "start_time": "2023-07-28T10:50:21.769085",
     "status": "completed"
    },
    "tags": []
   },
   "outputs": [
    {
     "data": {
      "text/plain": [
       "Artist              0\n",
       "Track               0\n",
       "Album               0\n",
       "Album_type          0\n",
       "Danceability        0\n",
       "Energy              0\n",
       "Loudness            0\n",
       "Speechiness         0\n",
       "Acousticness        0\n",
       "Instrumentalness    0\n",
       "Liveness            0\n",
       "Valence             0\n",
       "Tempo               0\n",
       "Duration_min        0\n",
       "Title               0\n",
       "Channel             0\n",
       "Views               0\n",
       "Likes               0\n",
       "Comments            0\n",
       "Licensed            0\n",
       "official_video      0\n",
       "Stream              0\n",
       "EnergyLiveness      2\n",
       "most_playedon       0\n",
       "dtype: int64"
      ]
     },
     "execution_count": 7,
     "metadata": {},
     "output_type": "execute_result"
    }
   ],
   "source": [
    "df.isna().sum()"
   ]
  },
  {
   "cell_type": "code",
   "execution_count": 8,
   "id": "6c0ad0d8",
   "metadata": {
    "execution": {
     "iopub.execute_input": "2023-07-28T10:50:21.863832Z",
     "iopub.status.busy": "2023-07-28T10:50:21.863151Z",
     "iopub.status.idle": "2023-07-28T10:50:21.915239Z",
     "shell.execute_reply": "2023-07-28T10:50:21.914291Z"
    },
    "id": "tJXNoZ5yp9Dp",
    "outputId": "810371ca-7636-419d-c108-b51bfaffaee8",
    "papermill": {
     "duration": 0.063972,
     "end_time": "2023-07-28T10:50:21.917561",
     "exception": false,
     "start_time": "2023-07-28T10:50:21.853589",
     "status": "completed"
    },
    "tags": []
   },
   "outputs": [
    {
     "data": {
      "text/plain": [
       "0"
      ]
     },
     "execution_count": 8,
     "metadata": {},
     "output_type": "execute_result"
    }
   ],
   "source": [
    "df.duplicated().sum()"
   ]
  },
  {
   "cell_type": "code",
   "execution_count": 9,
   "id": "8bd6c6ef",
   "metadata": {
    "execution": {
     "iopub.execute_input": "2023-07-28T10:50:21.935494Z",
     "iopub.status.busy": "2023-07-28T10:50:21.935228Z",
     "iopub.status.idle": "2023-07-28T10:50:21.941184Z",
     "shell.execute_reply": "2023-07-28T10:50:21.940354Z"
    },
    "id": "j8zIz6S6qJQY",
    "papermill": {
     "duration": 0.017346,
     "end_time": "2023-07-28T10:50:21.943440",
     "exception": false,
     "start_time": "2023-07-28T10:50:21.926094",
     "status": "completed"
    },
    "tags": []
   },
   "outputs": [],
   "source": [
    "df.EnergyLiveness.dropna(inplace=True)"
   ]
  },
  {
   "cell_type": "code",
   "execution_count": 10,
   "id": "9978a75d",
   "metadata": {
    "execution": {
     "iopub.execute_input": "2023-07-28T10:50:21.961994Z",
     "iopub.status.busy": "2023-07-28T10:50:21.961211Z",
     "iopub.status.idle": "2023-07-28T10:50:21.967624Z",
     "shell.execute_reply": "2023-07-28T10:50:21.966634Z"
    },
    "id": "5dGROp2qreFE",
    "outputId": "155260eb-ca21-46a8-b8e0-c10fade8ce78",
    "papermill": {
     "duration": 0.01759,
     "end_time": "2023-07-28T10:50:21.969737",
     "exception": false,
     "start_time": "2023-07-28T10:50:21.952147",
     "status": "completed"
    },
    "tags": []
   },
   "outputs": [
    {
     "data": {
      "text/plain": [
       "Index(['Artist', 'Track', 'Album', 'Album_type', 'Danceability', 'Energy',\n",
       "       'Loudness', 'Speechiness', 'Acousticness', 'Instrumentalness',\n",
       "       'Liveness', 'Valence', 'Tempo', 'Duration_min', 'Title', 'Channel',\n",
       "       'Views', 'Likes', 'Comments', 'Licensed', 'official_video', 'Stream',\n",
       "       'EnergyLiveness', 'most_playedon'],\n",
       "      dtype='object')"
      ]
     },
     "execution_count": 10,
     "metadata": {},
     "output_type": "execute_result"
    }
   ],
   "source": [
    "df.columns"
   ]
  },
  {
   "cell_type": "code",
   "execution_count": 11,
   "id": "43b6575f",
   "metadata": {
    "execution": {
     "iopub.execute_input": "2023-07-28T10:50:21.987648Z",
     "iopub.status.busy": "2023-07-28T10:50:21.986862Z",
     "iopub.status.idle": "2023-07-28T10:50:21.993787Z",
     "shell.execute_reply": "2023-07-28T10:50:21.992975Z"
    },
    "id": "5EV-7HairvZZ",
    "papermill": {
     "duration": 0.017888,
     "end_time": "2023-07-28T10:50:21.995668",
     "exception": false,
     "start_time": "2023-07-28T10:50:21.977780",
     "status": "completed"
    },
    "tags": []
   },
   "outputs": [],
   "source": [
    "data = df.drop(['Danceability', 'Energy',\n",
    "       'Loudness', 'Speechiness', 'Acousticness', 'Instrumentalness',\n",
    "       'Liveness', 'Valence', 'Tempo', 'Duration_min',\n",
    "       'Views', 'Likes', 'Comments', 'Licensed', 'official_video', 'Stream',\n",
    "       'EnergyLiveness' ], axis=1)"
   ]
  },
  {
   "cell_type": "code",
   "execution_count": 12,
   "id": "34e8e466",
   "metadata": {
    "execution": {
     "iopub.execute_input": "2023-07-28T10:50:22.030484Z",
     "iopub.status.busy": "2023-07-28T10:50:22.029703Z",
     "iopub.status.idle": "2023-07-28T10:50:22.034318Z",
     "shell.execute_reply": "2023-07-28T10:50:22.033491Z"
    },
    "id": "IDPlCCCB0v9x",
    "papermill": {
     "duration": 0.015636,
     "end_time": "2023-07-28T10:50:22.036256",
     "exception": false,
     "start_time": "2023-07-28T10:50:22.020620",
     "status": "completed"
    },
    "tags": []
   },
   "outputs": [],
   "source": [
    "def tags_create(text):\n",
    "    text = text.replace(' ', '')\n",
    "    return text"
   ]
  },
  {
   "cell_type": "code",
   "execution_count": 13,
   "id": "3008dca6",
   "metadata": {
    "execution": {
     "iopub.execute_input": "2023-07-28T10:50:22.054808Z",
     "iopub.status.busy": "2023-07-28T10:50:22.053469Z",
     "iopub.status.idle": "2023-07-28T10:50:22.090917Z",
     "shell.execute_reply": "2023-07-28T10:50:22.090102Z"
    },
    "id": "Cvlh9vvn1OuH",
    "papermill": {
     "duration": 0.048472,
     "end_time": "2023-07-28T10:50:22.093029",
     "exception": false,
     "start_time": "2023-07-28T10:50:22.044557",
     "status": "completed"
    },
    "tags": []
   },
   "outputs": [],
   "source": [
    "data.Album = data.Album.apply(tags_create)\n",
    "data.Title = data.Title.apply(tags_create)"
   ]
  },
  {
   "cell_type": "code",
   "execution_count": 14,
   "id": "7e85fde7",
   "metadata": {
    "execution": {
     "iopub.execute_input": "2023-07-28T10:50:22.110991Z",
     "iopub.status.busy": "2023-07-28T10:50:22.110731Z",
     "iopub.status.idle": "2023-07-28T10:50:22.142800Z",
     "shell.execute_reply": "2023-07-28T10:50:22.141846Z"
    },
    "id": "8n-g42Rd1S_R",
    "papermill": {
     "duration": 0.043231,
     "end_time": "2023-07-28T10:50:22.144809",
     "exception": false,
     "start_time": "2023-07-28T10:50:22.101578",
     "status": "completed"
    },
    "tags": []
   },
   "outputs": [],
   "source": [
    "tags = data.Artist + ' '+ data.Album +' '+ data.Album_type +' '+ data.Title + ' '+ data.Channel + ' '+ data.most_playedon"
   ]
  },
  {
   "cell_type": "code",
   "execution_count": 15,
   "id": "77fa6793",
   "metadata": {
    "execution": {
     "iopub.execute_input": "2023-07-28T10:50:22.164444Z",
     "iopub.status.busy": "2023-07-28T10:50:22.163083Z",
     "iopub.status.idle": "2023-07-28T10:50:22.168303Z",
     "shell.execute_reply": "2023-07-28T10:50:22.167492Z"
    },
    "id": "F2tVt7Y21pRX",
    "papermill": {
     "duration": 0.017245,
     "end_time": "2023-07-28T10:50:22.170578",
     "exception": false,
     "start_time": "2023-07-28T10:50:22.153333",
     "status": "completed"
    },
    "tags": []
   },
   "outputs": [],
   "source": [
    "data['tags'] = tags"
   ]
  },
  {
   "cell_type": "code",
   "execution_count": 16,
   "id": "6fba4d8c",
   "metadata": {
    "execution": {
     "iopub.execute_input": "2023-07-28T10:50:22.189009Z",
     "iopub.status.busy": "2023-07-28T10:50:22.188353Z",
     "iopub.status.idle": "2023-07-28T10:50:22.196255Z",
     "shell.execute_reply": "2023-07-28T10:50:22.195265Z"
    },
    "id": "inO1Bs8l_WDe",
    "papermill": {
     "duration": 0.019499,
     "end_time": "2023-07-28T10:50:22.198557",
     "exception": false,
     "start_time": "2023-07-28T10:50:22.179058",
     "status": "completed"
    },
    "tags": []
   },
   "outputs": [],
   "source": [
    "data.drop(['Artist', 'Album', 'Album_type', 'Title', 'Channel', 'most_playedon'], axis=1, inplace=True)"
   ]
  },
  {
   "cell_type": "code",
   "execution_count": 17,
   "id": "251f0516",
   "metadata": {
    "execution": {
     "iopub.execute_input": "2023-07-28T10:50:22.217404Z",
     "iopub.status.busy": "2023-07-28T10:50:22.215933Z",
     "iopub.status.idle": "2023-07-28T10:50:22.225531Z",
     "shell.execute_reply": "2023-07-28T10:50:22.224503Z"
    },
    "id": "PfZFhCk42rCD",
    "outputId": "3d0a824d-ee1c-410d-b13b-b26de9f3fa11",
    "papermill": {
     "duration": 0.020841,
     "end_time": "2023-07-28T10:50:22.227769",
     "exception": false,
     "start_time": "2023-07-28T10:50:22.206928",
     "status": "completed"
    },
    "tags": []
   },
   "outputs": [
    {
     "data": {
      "text/html": [
       "<div>\n",
       "<style scoped>\n",
       "    .dataframe tbody tr th:only-of-type {\n",
       "        vertical-align: middle;\n",
       "    }\n",
       "\n",
       "    .dataframe tbody tr th {\n",
       "        vertical-align: top;\n",
       "    }\n",
       "\n",
       "    .dataframe thead th {\n",
       "        text-align: right;\n",
       "    }\n",
       "</style>\n",
       "<table border=\"1\" class=\"dataframe\">\n",
       "  <thead>\n",
       "    <tr style=\"text-align: right;\">\n",
       "      <th></th>\n",
       "      <th>Track</th>\n",
       "      <th>tags</th>\n",
       "    </tr>\n",
       "  </thead>\n",
       "  <tbody>\n",
       "    <tr>\n",
       "      <th>0</th>\n",
       "      <td>Feel Good Inc.</td>\n",
       "      <td>Gorillaz DemonDays album Gorillaz-FeelGoodInc....</td>\n",
       "    </tr>\n",
       "    <tr>\n",
       "      <th>1</th>\n",
       "      <td>Rhinestone Eyes</td>\n",
       "      <td>Gorillaz PlasticBeach album Gorillaz-Rhineston...</td>\n",
       "    </tr>\n",
       "    <tr>\n",
       "      <th>2</th>\n",
       "      <td>New Gold (feat. Tame Impala and Bootie Brown)</td>\n",
       "      <td>Gorillaz NewGold(feat.TameImpalaandBootieBrown...</td>\n",
       "    </tr>\n",
       "  </tbody>\n",
       "</table>\n",
       "</div>"
      ],
      "text/plain": [
       "                                           Track  \\\n",
       "0                                 Feel Good Inc.   \n",
       "1                                Rhinestone Eyes   \n",
       "2  New Gold (feat. Tame Impala and Bootie Brown)   \n",
       "\n",
       "                                                tags  \n",
       "0  Gorillaz DemonDays album Gorillaz-FeelGoodInc....  \n",
       "1  Gorillaz PlasticBeach album Gorillaz-Rhineston...  \n",
       "2  Gorillaz NewGold(feat.TameImpalaandBootieBrown...  "
      ]
     },
     "execution_count": 17,
     "metadata": {},
     "output_type": "execute_result"
    }
   ],
   "source": [
    "data.head(3)"
   ]
  },
  {
   "cell_type": "code",
   "execution_count": 18,
   "id": "f10f7e25",
   "metadata": {
    "execution": {
     "iopub.execute_input": "2023-07-28T10:50:22.265185Z",
     "iopub.status.busy": "2023-07-28T10:50:22.264326Z",
     "iopub.status.idle": "2023-07-28T10:50:24.054241Z",
     "shell.execute_reply": "2023-07-28T10:50:24.053261Z"
    },
    "id": "lubig-_63lSc",
    "papermill": {
     "duration": 1.802107,
     "end_time": "2023-07-28T10:50:24.056780",
     "exception": false,
     "start_time": "2023-07-28T10:50:22.254673",
     "status": "completed"
    },
    "tags": []
   },
   "outputs": [],
   "source": [
    "from sklearn.feature_extraction.text import CountVectorizer\n",
    "cv = CountVectorizer(max_features=5000,stop_words='english')"
   ]
  },
  {
   "cell_type": "code",
   "execution_count": 19,
   "id": "58b7723d",
   "metadata": {
    "execution": {
     "iopub.execute_input": "2023-07-28T10:50:24.076906Z",
     "iopub.status.busy": "2023-07-28T10:50:24.076567Z",
     "iopub.status.idle": "2023-07-28T10:50:24.797986Z",
     "shell.execute_reply": "2023-07-28T10:50:24.796868Z"
    },
    "id": "m_T57zlS97t-",
    "papermill": {
     "duration": 0.734263,
     "end_time": "2023-07-28T10:50:24.800707",
     "exception": false,
     "start_time": "2023-07-28T10:50:24.066444",
     "status": "completed"
    },
    "tags": []
   },
   "outputs": [],
   "source": [
    "vector = cv.fit_transform(data['tags']).toarray()"
   ]
  },
  {
   "cell_type": "code",
   "execution_count": 20,
   "id": "ef248069",
   "metadata": {
    "execution": {
     "iopub.execute_input": "2023-07-28T10:50:24.838714Z",
     "iopub.status.busy": "2023-07-28T10:50:24.838355Z",
     "iopub.status.idle": "2023-07-28T10:50:24.999877Z",
     "shell.execute_reply": "2023-07-28T10:50:24.998918Z"
    },
    "id": "0KyFjUmp-IR8",
    "papermill": {
     "duration": 0.174612,
     "end_time": "2023-07-28T10:50:25.002164",
     "exception": false,
     "start_time": "2023-07-28T10:50:24.827552",
     "status": "completed"
    },
    "tags": []
   },
   "outputs": [],
   "source": [
    "from sklearn.metrics.pairwise import cosine_similarity"
   ]
  },
  {
   "cell_type": "code",
   "execution_count": 21,
   "id": "e102a9e7",
   "metadata": {
    "execution": {
     "iopub.execute_input": "2023-07-28T10:50:25.022145Z",
     "iopub.status.busy": "2023-07-28T10:50:25.021351Z",
     "iopub.status.idle": "2023-07-28T10:51:09.431828Z",
     "shell.execute_reply": "2023-07-28T10:51:09.430615Z"
    },
    "id": "aAwgAnDW-RE2",
    "papermill": {
     "duration": 44.423408,
     "end_time": "2023-07-28T10:51:09.434487",
     "exception": false,
     "start_time": "2023-07-28T10:50:25.011079",
     "status": "completed"
    },
    "tags": []
   },
   "outputs": [],
   "source": [
    "similarity = cosine_similarity(vector)"
   ]
  },
  {
   "cell_type": "code",
   "execution_count": 22,
   "id": "bd2d5491",
   "metadata": {
    "execution": {
     "iopub.execute_input": "2023-07-28T10:51:09.455911Z",
     "iopub.status.busy": "2023-07-28T10:51:09.455511Z",
     "iopub.status.idle": "2023-07-28T10:51:09.471547Z",
     "shell.execute_reply": "2023-07-28T10:51:09.470528Z"
    },
    "id": "vXZwiL5N-UDP",
    "outputId": "ae85d40a-e02d-42b4-d89a-f09e303c230d",
    "papermill": {
     "duration": 0.029278,
     "end_time": "2023-07-28T10:51:09.473739",
     "exception": false,
     "start_time": "2023-07-28T10:51:09.444461",
     "status": "completed"
    },
    "tags": []
   },
   "outputs": [
    {
     "data": {
      "text/plain": [
       "49"
      ]
     },
     "execution_count": 22,
     "metadata": {},
     "output_type": "execute_result"
    }
   ],
   "source": [
    "data[data['Track'] == 'Fix You'].index[0]"
   ]
  },
  {
   "cell_type": "code",
   "execution_count": 23,
   "id": "85325ecd",
   "metadata": {
    "execution": {
     "iopub.execute_input": "2023-07-28T10:51:09.513139Z",
     "iopub.status.busy": "2023-07-28T10:51:09.512388Z",
     "iopub.status.idle": "2023-07-28T10:51:09.518671Z",
     "shell.execute_reply": "2023-07-28T10:51:09.517678Z"
    },
    "id": "GnBD8lLLATB4",
    "papermill": {
     "duration": 0.018962,
     "end_time": "2023-07-28T10:51:09.520751",
     "exception": false,
     "start_time": "2023-07-28T10:51:09.501789",
     "status": "completed"
    },
    "tags": []
   },
   "outputs": [],
   "source": [
    "def get_recommendations(song):\n",
    "    index = data[data['Track'] == song].index[0] # Fetching the index number of song in dataframe\n",
    "    similarity_list = sorted(list(enumerate(similarity[index])),reverse=True,key = lambda x: x[1])\n",
    "    for i in similarity_list[1:6]:\n",
    "        print(data.iloc[i[0]].Track.title())\n"
   ]
  },
  {
   "cell_type": "code",
   "execution_count": 24,
   "id": "26af7163",
   "metadata": {
    "execution": {
     "iopub.execute_input": "2023-07-28T10:51:09.561137Z",
     "iopub.status.busy": "2023-07-28T10:51:09.559918Z",
     "iopub.status.idle": "2023-07-28T10:51:09.593794Z",
     "shell.execute_reply": "2023-07-28T10:51:09.592355Z"
    },
    "id": "z2pmIlpeAmI8",
    "outputId": "c83676ca-7578-417b-c6b9-2a6b46c6f9f1",
    "papermill": {
     "duration": 0.047112,
     "end_time": "2023-07-28T10:51:09.596158",
     "exception": false,
     "start_time": "2023-07-28T10:51:09.549046",
     "status": "completed"
    },
    "tags": []
   },
   "outputs": [
    {
     "name": "stdout",
     "output_type": "stream",
     "text": [
      "you mean the whole wide world to me\n",
      "Jar of Hearts\n",
      "arms\n",
      "you are my sunshine\n",
      "here comes the sun\n"
     ]
    }
   ],
   "source": [
    "# Pass only song name exiested in list with correct speling\n",
    "music_name = input(\"Enter the song name: \")\n",
    "music_name\n",
    "get_recommendations(music_name.title())"
   ]
  }
 ],
 "metadata": {
  "kernelspec": {
   "display_name": "Python 3",
   "language": "python",
   "name": "python3"
  },
  "language_info": {
   "codemirror_mode": {
    "name": "ipython",
    "version": 3
   },
   "file_extension": ".py",
   "mimetype": "text/x-python",
   "name": "python",
   "nbconvert_exporter": "python",
   "pygments_lexer": "ipython3",
   "version": "3.10.1"
  },
  "papermill": {
   "default_parameters": {},
   "duration": 63.061082,
   "end_time": "2023-07-28T10:51:10.428267",
   "environment_variables": {},
   "exception": null,
   "input_path": "__notebook__.ipynb",
   "output_path": "__notebook__.ipynb",
   "parameters": {},
   "start_time": "2023-07-28T10:50:07.367185",
   "version": "2.4.0"
  }
 },
 "nbformat": 4,
 "nbformat_minor": 5
}
